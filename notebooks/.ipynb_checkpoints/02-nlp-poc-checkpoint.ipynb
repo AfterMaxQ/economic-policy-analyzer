{
 "cells": [
  {
   "cell_type": "markdown",
   "id": "3ae2db34-c267-49c1-8aa7-3fa9dd0b1c36",
   "metadata": {},
   "source": [
    "选择A：NLP-01 - FOMC声明情感分析 (推荐)\n",
    "为什么推荐？\n",
    "趣味性强： 将非结构化的文本（政策声明）量化成情感分数，并与市场数据结合，这个过程非常有意思。\n",
    "技术新颖： 可以让你快速上手 Hugging Face Transformers 这个强大的库，这是当前 NLP 领域的事实标准。\n",
    "相对独立： 爬虫和情感分析的过程可以完全在 notebooks/02-nlp-poc.ipynb 中独立完成，不依赖于你现有的代码。\n",
    "第一步： 在你的 Notebook 里，尝试用 requests 和 BeautifulSoup4 爬取美联储网站上的一份 FOMC 声明。\n",
    "第二步： 在 Notebook 里，加载一个 FinBERT 模型，对这份声明进行情感分析。"
   ]
  },
  {
   "cell_type": "code",
   "execution_count": 7,
   "id": "80778f4c-f7de-42c2-a712-c16fd959b135",
   "metadata": {},
   "outputs": [],
   "source": [
    "import requests\n",
    "from bs4 import BeautifulSoup\n",
    "\n",
    "url = \"https://www.federalreserve.gov/newsevents/pressreleases/monetary20250917a.htm\"\n",
    "response = requests.get(url)\n",
    "soup = BeautifulSoup(response.content, 'html.parser')\n",
    "\n",
    "article_div = soup.find('div', id=\"article\")\n",
    "if article_div:\n",
    "    statement_text = article_div.get_text()\n",
    "else:\n",
    "    print(\"未找到声明\")"
   ]
  },
  {
   "cell_type": "code",
   "execution_count": 9,
   "id": "eea9b0a6-7324-4059-965b-226acaa369ea",
   "metadata": {},
   "outputs": [
    {
     "name": "stderr",
     "output_type": "stream",
     "text": [
      "G:\\Anaconda3\\envs\\economic_analyzer\\Lib\\site-packages\\tqdm\\auto.py:21: TqdmWarning: IProgress not found. Please update jupyter and ipywidgets. See https://ipywidgets.readthedocs.io/en/stable/user_install.html\n",
      "  from .autonotebook import tqdm as notebook_tqdm\n",
      "Xet Storage is enabled for this repo, but the 'hf_xet' package is not installed. Falling back to regular HTTP download. For better performance, install the package with: `pip install huggingface_hub[hf_xet]` or `pip install hf_xet`\n",
      "Xet Storage is enabled for this repo, but the 'hf_xet' package is not installed. Falling back to regular HTTP download. For better performance, install the package with: `pip install huggingface_hub[hf_xet]` or `pip install hf_xet`\n",
      "Device set to use cuda:0\n"
     ]
    },
    {
     "name": "stdout",
     "output_type": "stream",
     "text": [
      "[{'label': 'neutral', 'score': 0.8062535524368286}]\n"
     ]
    }
   ],
   "source": [
    "from transformers import pipeline\n",
    "\n",
    "# 加载预训练的金融情感分析模型\n",
    "# 第一次运行会下载模型，需要一些时间\n",
    "sentiment_analyzer = pipeline(\"sentiment-analysis\", model=\"ProsusAI/finbert\")\n",
    "\n",
    "# 对我们爬取到的文本进行分析\n",
    "result = sentiment_analyzer(statement_text)\n",
    "print(result)\n",
    "# 输出可能像这样: [{'label': 'neutral', 'score': 0.8...}]"
   ]
  },
  {
   "cell_type": "code",
   "execution_count": null,
   "id": "8c85b53f-e272-498b-a1c3-ef16168fc8d1",
   "metadata": {},
   "outputs": [],
   "source": []
  },
  {
   "cell_type": "code",
   "execution_count": null,
   "id": "1842ef6d-39d2-4e01-a1c7-57efa70470c0",
   "metadata": {},
   "outputs": [],
   "source": []
  }
 ],
 "metadata": {
  "kernelspec": {
   "display_name": "Python (Economic Analyzer)",
   "language": "python",
   "name": "economic_analyzer"
  },
  "language_info": {
   "codemirror_mode": {
    "name": "ipython",
    "version": 3
   },
   "file_extension": ".py",
   "mimetype": "text/x-python",
   "name": "python",
   "nbconvert_exporter": "python",
   "pygments_lexer": "ipython3",
   "version": "3.11.13"
  }
 },
 "nbformat": 4,
 "nbformat_minor": 5
}
