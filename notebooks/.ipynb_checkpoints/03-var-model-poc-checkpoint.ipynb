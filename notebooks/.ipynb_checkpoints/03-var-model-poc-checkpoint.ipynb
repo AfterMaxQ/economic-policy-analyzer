{
 "cells": [
  {
   "cell_type": "code",
   "execution_count": 6,
   "id": "e718174b-272b-43ec-87fd-6b3546a4b1b4",
   "metadata": {},
   "outputs": [
    {
     "ename": "NotImplementedError",
     "evalue": "data_source='CPILFESL' is not implemented",
     "output_type": "error",
     "traceback": [
      "\u001b[31m---------------------------------------------------------------------------\u001b[39m",
      "\u001b[31mNotImplementedError\u001b[39m                       Traceback (most recent call last)",
      "\u001b[36mCell\u001b[39m\u001b[36m \u001b[39m\u001b[32mIn[6]\u001b[39m\u001b[32m, line 5\u001b[39m\n\u001b[32m      2\u001b[39m \u001b[38;5;28;01mimport\u001b[39;00m\u001b[38;5;250m \u001b[39m\u001b[34;01mnumpy\u001b[39;00m\u001b[38;5;250m \u001b[39m\u001b[38;5;28;01mas\u001b[39;00m\u001b[38;5;250m \u001b[39m\u001b[34;01mnp\u001b[39;00m\n\u001b[32m      4\u001b[39m \u001b[38;5;66;03m#获取月度数据\u001b[39;00m\n\u001b[32m----> \u001b[39m\u001b[32m5\u001b[39m df = \u001b[43mweb\u001b[49m\u001b[43m.\u001b[49m\u001b[43mDataReader\u001b[49m\u001b[43m(\u001b[49m\u001b[33;43m'\u001b[39;49m\u001b[33;43mFEDFUNDS\u001b[39;49m\u001b[33;43m'\u001b[39;49m\u001b[43m,\u001b[49m\u001b[43m \u001b[49m\u001b[33;43m'\u001b[39;49m\u001b[33;43mCPILFESL\u001b[39;49m\u001b[33;43m'\u001b[39;49m\u001b[43m,\u001b[49m\u001b[43m \u001b[49m\u001b[33;43m\"\u001b[39;49m\u001b[33;43mfred\u001b[39;49m\u001b[33;43m\"\u001b[39;49m\u001b[43m,\u001b[49m\u001b[43m \u001b[49m\u001b[33;43m\"\u001b[39;49m\u001b[33;43m2000-01-01\u001b[39;49m\u001b[33;43m\"\u001b[39;49m\u001b[43m,\u001b[49m\u001b[43m \u001b[49m\u001b[33;43m\"\u001b[39;49m\u001b[33;43m2023-12-31\u001b[39;49m\u001b[33;43m\"\u001b[39;49m\u001b[43m)\u001b[49m\n\u001b[32m      6\u001b[39m df = df.ffill().dropna()\n\u001b[32m      8\u001b[39m \u001b[38;5;66;03m#对CPI取对数差分，计算通胀率\u001b[39;00m\n",
      "\u001b[36mFile \u001b[39m\u001b[32mG:\\Anaconda3\\envs\\economic_analyzer\\Lib\\site-packages\\pandas\\util\\_decorators.py:213\u001b[39m, in \u001b[36mdeprecate_kwarg.<locals>._deprecate_kwarg.<locals>.wrapper\u001b[39m\u001b[34m(*args, **kwargs)\u001b[39m\n\u001b[32m    211\u001b[39m         \u001b[38;5;28;01mraise\u001b[39;00m \u001b[38;5;167;01mTypeError\u001b[39;00m(msg)\n\u001b[32m    212\u001b[39m     kwargs[new_arg_name] = new_arg_value\n\u001b[32m--> \u001b[39m\u001b[32m213\u001b[39m \u001b[38;5;28;01mreturn\u001b[39;00m \u001b[43mfunc\u001b[49m\u001b[43m(\u001b[49m\u001b[43m*\u001b[49m\u001b[43margs\u001b[49m\u001b[43m,\u001b[49m\u001b[43m \u001b[49m\u001b[43m*\u001b[49m\u001b[43m*\u001b[49m\u001b[43mkwargs\u001b[49m\u001b[43m)\u001b[49m\n",
      "\u001b[36mFile \u001b[39m\u001b[32mG:\\Anaconda3\\envs\\economic_analyzer\\Lib\\site-packages\\pandas_datareader\\data.py:367\u001b[39m, in \u001b[36mDataReader\u001b[39m\u001b[34m(name, data_source, start, end, retry_count, pause, session, api_key)\u001b[39m\n\u001b[32m    365\u001b[39m \u001b[38;5;28;01mif\u001b[39;00m data_source \u001b[38;5;129;01mnot\u001b[39;00m \u001b[38;5;129;01min\u001b[39;00m expected_source:\n\u001b[32m    366\u001b[39m     msg = \u001b[33m\"\u001b[39m\u001b[33mdata_source=\u001b[39m\u001b[38;5;132;01m%r\u001b[39;00m\u001b[33m is not implemented\u001b[39m\u001b[33m\"\u001b[39m % data_source\n\u001b[32m--> \u001b[39m\u001b[32m367\u001b[39m     \u001b[38;5;28;01mraise\u001b[39;00m \u001b[38;5;167;01mNotImplementedError\u001b[39;00m(msg)\n\u001b[32m    369\u001b[39m \u001b[38;5;28;01mif\u001b[39;00m data_source == \u001b[33m\"\u001b[39m\u001b[33myahoo\u001b[39m\u001b[33m\"\u001b[39m:\n\u001b[32m    370\u001b[39m     \u001b[38;5;28;01mreturn\u001b[39;00m YahooDailyReader(\n\u001b[32m    371\u001b[39m         symbols=name,\n\u001b[32m    372\u001b[39m         start=start,\n\u001b[32m   (...)\u001b[39m\u001b[32m    378\u001b[39m         session=session,\n\u001b[32m    379\u001b[39m     ).read()\n",
      "\u001b[31mNotImplementedError\u001b[39m: data_source='CPILFESL' is not implemented"
     ]
    }
   ],
   "source": [
    "import pandas_datareader.data as web\n",
    "import numpy as np\n",
    "\n",
    "#获取月度数据\n",
    "df = web.DataReader('FEDFUNDS', 'CPILFESL', \"fred\", \"2000-01-01\", \"2023-12-31\")\n",
    "df = df.ffill().dropna()\n",
    "\n",
    "#对CPI取对数差分，计算通胀率\n",
    "df['INFLATION'] = np.log(df['CPILFESL']).diff() * 100\n",
    "df = df.dropna()\n",
    "\n",
    "# 准备用于建模的数据\n",
    "model_data = df[['FEDFUNDS', 'INFLATION']]\n",
    "print(model_data.head())\n"
   ]
  }
 ],
 "metadata": {
  "kernelspec": {
   "display_name": "Python (Economic Analyzer)",
   "language": "python",
   "name": "economic_analyzer"
  },
  "language_info": {
   "codemirror_mode": {
    "name": "ipython",
    "version": 3
   },
   "file_extension": ".py",
   "mimetype": "text/x-python",
   "name": "python",
   "nbconvert_exporter": "python",
   "pygments_lexer": "ipython3",
   "version": "3.11.13"
  }
 },
 "nbformat": 4,
 "nbformat_minor": 5
}
